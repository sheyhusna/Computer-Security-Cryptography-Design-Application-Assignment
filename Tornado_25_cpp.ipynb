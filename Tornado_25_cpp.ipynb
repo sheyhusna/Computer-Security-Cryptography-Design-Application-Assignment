{
  "nbformat": 4,
  "nbformat_minor": 0,
  "metadata": {
    "colab": {
      "provenance": [],
      "authorship_tag": "ABX9TyOIQ5/I5BBPkot0zqILOJQ9",
      "include_colab_link": true
    },
    "kernelspec": {
      "name": "python3",
      "display_name": "Python 3"
    },
    "language_info": {
      "name": "python"
    }
  },
  "cells": [
    {
      "cell_type": "markdown",
      "metadata": {
        "id": "view-in-github",
        "colab_type": "text"
      },
      "source": [
        "<a href=\"https://colab.research.google.com/github/sheyhusna/Computer-Security-Cryptography-Design-Application-Assignment/blob/main/Tornado_25_cpp.ipynb\" target=\"_parent\"><img src=\"https://colab.research.google.com/assets/colab-badge.svg\" alt=\"Open In Colab\"/></a>"
      ]
    },
    {
      "cell_type": "code",
      "source": [
        "%%writefile Tornado-25.cpp\n",
        "#include <iostream>\n",
        "#include <vector>\n",
        "#include <string>\n",
        "#include <random>\n",
        "\n",
        "using namespace std;\n",
        "\n",
        "// Base64 encoding table\n",
        "const string base64_chars =\n",
        "    \"ABCDEFGHIJKLMNOPQRSTUVWXYZ\"\n",
        "    \"abcdefghijklmnopqrstuvwxyz\"\n",
        "    \"0123456789+/\";\n",
        "\n",
        "// Rotate left\n",
        "unsigned char rotateLeft(unsigned char byte, int shift = 1) {\n",
        "    return (byte << shift) | (byte >> (8 - shift));\n",
        "}\n",
        "\n",
        "// Rotate right\n",
        "unsigned char rotateRight(unsigned char byte, int shift = 1) {\n",
        "    return (byte >> shift) | (byte << (8 - shift));\n",
        "}\n",
        "\n",
        "// Generate rotated keystream\n",
        "vector<unsigned char> generateKeystream(int seed, int length) {\n",
        "    mt19937 rng(seed);\n",
        "    uniform_int_distribution<int> dist(0, 255);\n",
        "    vector<unsigned char> keystream;\n",
        "\n",
        "    for (int i = 0; i < length; ++i) {\n",
        "        unsigned char k = dist(rng);\n",
        "        if (k % 2 == 0) {\n",
        "            k = rotateLeft(k);\n",
        "        } else {\n",
        "            k = rotateRight(k);\n",
        "        }\n",
        "        keystream.push_back(k);\n",
        "    }\n",
        "\n",
        "    return keystream;\n",
        "}\n",
        "\n",
        "// Encrypt\n",
        "string encrypt(const string& plaintext, int key) {\n",
        "    vector<unsigned char> keystream = generateKeystream(key, plaintext.length());\n",
        "    string encrypted = \"\";\n",
        "\n",
        "    for (int i = 0; i < plaintext.length(); ++i) {\n",
        "        char c = plaintext[i] ^ keystream[i];\n",
        "        encrypted += c;\n",
        "    }\n",
        "\n",
        "    return encrypted;\n",
        "}\n",
        "\n",
        "// Decrypt\n",
        "string decrypt(const string& ciphertext, int key) {\n",
        "    vector<unsigned char> keystream = generateKeystream(key, ciphertext.length());\n",
        "    string decrypted = \"\";\n",
        "\n",
        "    for (int i = 0; i < ciphertext.length(); ++i) {\n",
        "        char p = ciphertext[i] ^ keystream[i];\n",
        "        decrypted += p;\n",
        "    }\n",
        "\n",
        "    return decrypted;\n",
        "}\n",
        "\n",
        "// Base64 encode\n",
        "string base64Encode(const string& data) {\n",
        "    string encoded;\n",
        "    int val = 0, valb = -6;\n",
        "    for (unsigned char c : data) {\n",
        "        val = (val << 8) + c;\n",
        "        valb += 8;\n",
        "        while (valb >= 0) {\n",
        "            encoded.push_back(base64_chars[(val >> valb) & 0x3F]);\n",
        "            valb -= 6;\n",
        "        }\n",
        "    }\n",
        "    if (valb > -6) encoded.push_back(base64_chars[((val << 8) >> (valb + 8)) & 0x3F]);\n",
        "    while (encoded.size() % 4) encoded.push_back('=');\n",
        "    return encoded;\n",
        "}\n",
        "\n",
        "// Base64 decode\n",
        "string base64Decode(const string& encoded) {\n",
        "    string decoded;\n",
        "    vector<int> T(256, -1);\n",
        "    for (int i = 0; i < 64; i++) T[base64_chars[i]] = i;\n",
        "\n",
        "    int val = 0, valb = -8;\n",
        "    for (unsigned char c : encoded) {\n",
        "        if (T[c] == -1) break;\n",
        "        val = (val << 6) + T[c];\n",
        "        valb += 6;\n",
        "        if (valb >= 0) {\n",
        "            decoded.push_back(char((val >> valb) & 0xFF));\n",
        "            valb -= 8;\n",
        "        }\n",
        "    }\n",
        "    return decoded;\n",
        "}\n",
        "\n",
        "int main() {\n",
        "    string message = \"THE MANAGER IS HERE\";\n",
        "    int key = 67943;\n",
        "\n",
        "    // Encrypt and encode\n",
        "    string encrypted = encrypt(message, key);\n",
        "    string encoded = base64Encode(encrypted);\n",
        "\n",
        "    // Decode and decrypt\n",
        "    string decoded = base64Decode(encoded);\n",
        "    string decrypted = decrypt(decoded, key);\n",
        "\n",
        "    // Output\n",
        "    cout << \"Original Message: \" << message << endl;\n",
        "    cout << \"Encrypted (Base64): \" << encoded << endl;\n",
        "    cout << \"Decrypted Message: \" << decrypted << endl;\n",
        "\n",
        "    return 0;\n",
        "}"
      ],
      "metadata": {
        "colab": {
          "base_uri": "https://localhost:8080/"
        },
        "id": "l458Z1Iqq5Mf",
        "outputId": "3f05e6a2-1d39-477a-c1e1-74c7105b4256"
      },
      "execution_count": 1,
      "outputs": [
        {
          "output_type": "stream",
          "name": "stdout",
          "text": [
            "Writing Tornado-25.cpp\n"
          ]
        }
      ]
    },
    {
      "cell_type": "code",
      "source": [
        "!g++ Tornado-25.cpp -o Tornado-25"
      ],
      "metadata": {
        "id": "bUp70Q6za95n"
      },
      "execution_count": 2,
      "outputs": []
    },
    {
      "cell_type": "code",
      "source": [
        "!./Tornado-25"
      ],
      "metadata": {
        "colab": {
          "base_uri": "https://localhost:8080/"
        },
        "id": "NkwRlJ16a_U2",
        "outputId": "d4a20f74-e41f-4f1f-a89e-072d219d475e"
      },
      "execution_count": 4,
      "outputs": [
        {
          "output_type": "stream",
          "name": "stdout",
          "text": [
            "Original Message: THE MANAGER IS HERE\n",
            "Encrypted (Base64): ks3ZyuWlRpu7AK6sjYZMHEjjFQ==\n",
            "Decrypted Message: THE MANAGER IS HERE\n"
          ]
        }
      ]
    }
  ]
}